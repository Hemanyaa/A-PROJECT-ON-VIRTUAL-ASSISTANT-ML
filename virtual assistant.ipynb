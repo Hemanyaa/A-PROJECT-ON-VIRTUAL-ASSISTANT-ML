{
 "cells": [
  {
   "cell_type": "code",
   "execution_count": 5,
   "metadata": {},
   "outputs": [],
   "source": [
    "import speech_recognition as sr\n",
    "import os\n",
    "from gtts import gTTS\n",
    "import playsound\n",
    "import datetime\n",
    "import warnings\n",
    "import calendar\n",
    "import time"
   ]
  },
  {
   "cell_type": "code",
   "execution_count": 6,
   "metadata": {},
   "outputs": [],
   "source": [
    "warnings.filterwarnings('ignore')"
   ]
  },
  {
   "cell_type": "code",
   "execution_count": 7,
   "metadata": {},
   "outputs": [],
   "source": [
    "def speak(text):\n",
    "    for i in range(0,1):\n",
    "        tts = gTTS(text= text, lang = 'en')\n",
    "        file1 = str(\"hello\" + str(i) + \".mp3\")\n",
    "        tts.save(file1)\n",
    "        playsound.playsound(file1,True)\n",
    "        print('after')\n",
    "        os.remove(file1)"
   ]
  },
  {
   "cell_type": "code",
   "execution_count": 8,
   "metadata": {},
   "outputs": [],
   "source": [
    "def get_audio():\n",
    "    r = sr.Recognizer()\n",
    "    with sr.Microphone() as source:\n",
    "        print(\"please say something\")\n",
    "        audio = r.listen(source)\n",
    "    said = ''\n",
    "    try:\n",
    "        said = r.recognize_google(audio)\n",
    "        print(said)\n",
    "   \n",
    "    except Exception as e:\n",
    "        print(\"Exception:\" + str(e))\n",
    "    return said"
   ]
  },
  {
   "cell_type": "code",
   "execution_count": 9,
   "metadata": {},
   "outputs": [],
   "source": [
    "def get_date():\n",
    "    now = datetime.datetime.now()\n",
    "    date = datetime.datetime.today()\n",
    "    weekday = calendar.day_name[date.weekday()]\n",
    "    month = now.month\n",
    "    daynum = now.day\n",
    "    # A list of months\n",
    "    months = [\"January\", \"February\", \"March\",\n",
    "              \"April\", \"May\", \"June\", \"July\",\n",
    "              \"August\", \"September\", \"October\",\n",
    "              \"November\", \"December\"]\n",
    "    ordinal = ['1st', '2nd', '3rd',\n",
    "               '4th', '5th', '6th',\n",
    "               '7th', '8th','9th',\n",
    "               '10th', '11th', '12th',\n",
    "               '13th', '14th', '15th',\n",
    "               '16th', '17th', '18th',\n",
    "               '19th', '20th', '21st',\n",
    "               '22nd', '23rd','24th',\n",
    "               '25th', '26th', '27th',\n",
    "               '28th', '29th', '30th','31st']\n",
    "    return 'Today is '+weekday+' '+ months[month - 1]+ ' the '+ ordinal[daynum - 1] +'.'"
   ]
  },
  {
   "cell_type": "code",
   "execution_count": 10,
   "metadata": {},
   "outputs": [],
   "source": [
    "def get_data():\n",
    "    college=(\"sreenidhi institute of science and technology\")\n",
    "    return 'the college name is'+college+'.'"
   ]
  },
  {
   "cell_type": "code",
   "execution_count": 11,
   "metadata": {},
   "outputs": [],
   "source": [
    "def get_data1():\n",
    "    branches=(\"Information Technology,  Computer Science and Engineering,  Electrical and Electronics Engineeing,  Mechanical Engineering, Electronics and Communication Engineering, Civil Engineering, Electronics and Computer Engineering, Bio Technology\")\n",
    "    return 'branches in our college are'+branches+'.'"
   ]
  },
  {
   "cell_type": "code",
   "execution_count": 12,
   "metadata": {},
   "outputs": [],
   "source": [
    "def getPerson(text):\n",
    "    wordlist =  text.split()\n",
    "    for i in range(0, len(wordlist)):\n",
    "        if i + 3 <= len(wordlist) - 1 and wordlist[i].lower() == 'who' and wordlist[i+1].lower() == \"is\":\n",
    "            return wordlist[i+2] + \" \" + wordlist[i+3]"
   ]
  },
  {
   "cell_type": "code",
   "execution_count": 13,
   "metadata": {},
   "outputs": [],
   "source": [
    "def get_address():\n",
    "    address=(\"turn left and go straight for 100 meters and your destination will arrive at your left\")\n",
    "    return 'route is'+address+'.'"
   ]
  },
  {
   "cell_type": "code",
   "execution_count": 14,
   "metadata": {},
   "outputs": [],
   "source": [
    "def get_address1():\n",
    "    address1=(\"turn left and go straight for 50 meters and your destination will arrive at your right\")\n",
    "    return 'route is'+address1+'.'"
   ]
  },
  {
   "cell_type": "code",
   "execution_count": 15,
   "metadata": {},
   "outputs": [],
   "source": [
    "def get_address2():\n",
    "    address2=(\"turn left and go straight for 100 meters and turn right and go straight for another 100 meters, you will reach your destination at your left\")\n",
    "    return 'route to canteen is'+address2+'.'"
   ]
  },
  {
   "cell_type": "code",
   "execution_count": 16,
   "metadata": {},
   "outputs": [],
   "source": [
    "def get_address3():\n",
    "    address3=(\"turn left and go straight for 50 meters and turn lest and go straight for another 50 meters and you will reach your destination\")\n",
    "    return 'route to library is'+address3+'.'"
   ]
  },
  {
   "cell_type": "code",
   "execution_count": 17,
   "metadata": {},
   "outputs": [],
   "source": [
    "def get_address4():\n",
    "    address4=(\"turn left and go straight for 150 meters, you will reach your destination\")\n",
    "    return 'route to'+address4+'.'"
   ]
  },
  {
   "cell_type": "code",
   "execution_count": 18,
   "metadata": {},
   "outputs": [],
   "source": [
    "def get_address5():\n",
    "    address5=(\"turn left and go straight for 50 meters for block1\")\n",
    "    address51=(\"turn right and go straight for 50 meters for block2\")\n",
    "    return 'route to block1 is'+address5+'and route to block2 from admin is'+address51+'.'"
   ]
  },
  {
   "cell_type": "code",
   "execution_count": 19,
   "metadata": {},
   "outputs": [],
   "source": [
    "def get_address6():\n",
    "    address6=(\"turn right and go straight for 50 meters, you will reach your destination at your left\")\n",
    "    return 'route to admin is'+address6+'.'"
   ]
  },
  {
   "cell_type": "code",
   "execution_count": 20,
   "metadata": {},
   "outputs": [],
   "source": [
    "def get_address7():\n",
    "    address7=(\"go straight for 100 meters, you will reach your destination\")\n",
    "    return 'route to library'+address7+'.'"
   ]
  },
  {
   "cell_type": "code",
   "execution_count": 21,
   "metadata": {},
   "outputs": [],
   "source": [
    "def get_address8():\n",
    "    address8=(\"turn left and go straight for 100 meters, you will reach your destination\")\n",
    "    return 'route to titanic'+address8+'.'"
   ]
  },
  {
   "cell_type": "code",
   "execution_count": 22,
   "metadata": {},
   "outputs": [],
   "source": [
    "def get_aboutclg():\n",
    "    aboutclg=(\"SNIST is Accredited by NAAC with A+ Grade. It is one of the top engineering colleges in Telangana, which provides good placements and better career options for all the students with global exposure\")\n",
    "    return ' '+aboutclg+'.'"
   ]
  },
  {
   "cell_type": "code",
   "execution_count": 23,
   "metadata": {},
   "outputs": [],
   "source": [
    "def get_club():\n",
    "    clubs=(\"robotics, art's, technical, bachpan bachao, IEEE, ISTE, sports club, Electronic club and Techvision club\")\n",
    "    return 'clubs in our college are'+clubs+'.'"
   ]
  },
  {
   "cell_type": "code",
   "execution_count": 24,
   "metadata": {},
   "outputs": [],
   "source": [
    "def get_vision():\n",
    "    vision=(\"To emerge as a leading Center for Technical Education and Research with focus to produce professionally competent and socially sensitive engineers capable of working in multidisciplinary global environment\")\n",
    "    return 'college vision is'+vision+'.'"
   ]
  },
  {
   "cell_type": "code",
   "execution_count": 25,
   "metadata": {},
   "outputs": [],
   "source": [
    "def get_mission():\n",
    "    mission=(\"To rigorously pursue the concept that the institute is a continuous learning organization that ensures involvement of the faculty and students in studying the changing technologies that are required for a better world in general and India in particular. This necessitates revising the curriculum on a continuous basis without much gaps in time\")\n",
    "    return 'college mission is'+mission+'.'"
   ]
  },
  {
   "cell_type": "code",
   "execution_count": 26,
   "metadata": {},
   "outputs": [],
   "source": [
    "def get_placements():\n",
    "    placement=(\"Around 85% of students got placed in our course\")\n",
    "    return 'In our college'+placement+'.'"
   ]
  },
  {
   "cell_type": "code",
   "execution_count": 27,
   "metadata": {},
   "outputs": [],
   "source": [
    "def get_packages():\n",
    "    package=(\"highest package offered is 10 Lakh per annum and the lowest package is 50,000 per annum\")\n",
    "    return 'In our college'+package+'.'"
   ]
  },
  {
   "cell_type": "code",
   "execution_count": 28,
   "metadata": {},
   "outputs": [],
   "source": [
    "def virtual_assistant(text):\n",
    "    global listening\n",
    "    if \"how are you\" in text:\n",
    "        listening=True\n",
    "        speak(\"I am well\")\n",
    "        \n",
    "    if \"what date is it\" in text:\n",
    "        listening=True\n",
    "        speak(get_date())\n",
    "        \n",
    "    if \"tell me the college name\" in text:\n",
    "        listening=True\n",
    "        speak(get_data())\n",
    "            \n",
    "    if \"tell me the branches\" in text: \n",
    "        listening=True\n",
    "        speak(get_data1())\n",
    "        \n",
    "    if \"1st block to 2nd block\" in text:\n",
    "        listening=True\n",
    "        speak(get_address())\n",
    "        \n",
    "    if \"1st block to admin\" in text:\n",
    "        listening=True\n",
    "        speak(get_address1())\n",
    "        \n",
    "    if \"first block to canteen\" in text:\n",
    "        listening=True\n",
    "        speak(get_address2())\n",
    "        \n",
    "    if \"first block to library\" in text:\n",
    "        listening=True\n",
    "        speak(get_address3())\n",
    "        \n",
    "    if \"1st block to Titanic\" in text:\n",
    "        listening=True\n",
    "        speak(get_address4())\n",
    "        \n",
    "    if \"admin to blocks\" in text:\n",
    "        listening=True\n",
    "        speak(get_address5())\n",
    "        \n",
    "    if \"1st block to admin\" in text:\n",
    "        listening=True\n",
    "        speak(get_address6())\n",
    "    \n",
    "    if \"admin to library\" in text:\n",
    "        listening=True\n",
    "        speak(get_address7())\n",
    "    \n",
    "    if \"admin to Titanic\" in text:\n",
    "        listening=True\n",
    "        speak(get_address8())\n",
    "        \n",
    "    if \"tell me about college\" in text:\n",
    "        listening=True\n",
    "        speak(get_aboutclg())\n",
    "    \n",
    "    if \"clubs available in college\" in text:\n",
    "        listening=True\n",
    "        speak(get_club())\n",
    "    \n",
    "    if \"tell me college vision\" in text:\n",
    "        listening=True\n",
    "        speak(get_vision())\n",
    "        \n",
    "    if \"tell me college mission\" in text:\n",
    "        listening=True\n",
    "        speak(get_mission())\n",
    "        \n",
    "    if \"tell me about placements\" in text:\n",
    "        listening=True\n",
    "        speak(get_placements())\n",
    "        \n",
    "    if(\"tell me about packages\") in text:\n",
    "        listening=True\n",
    "        speak(get_packages())\n",
    "        \n",
    "    if \"stop listening\" in text:\n",
    "        listening=False\n",
    "        speak('Listening stopped')\n",
    "        return listening\n",
    "    return listening"
   ]
  },
  {
   "cell_type": "code",
   "execution_count": null,
   "metadata": {},
   "outputs": [
    {
     "name": "stdout",
     "output_type": "stream",
     "text": [
      "after\n",
      "please say something\n",
      "tell me college mission\n",
      "after\n",
      "please say something\n"
     ]
    }
   ],
   "source": [
    "time.sleep(2)\n",
    "speak(\"Hi, what can I do for you?\")\n",
    "listening = True\n",
    "while listening == True:\n",
    "    text = get_audio()\n",
    "    listening= virtual_assistant(text)"
   ]
  },
  {
   "cell_type": "code",
   "execution_count": null,
   "metadata": {},
   "outputs": [],
   "source": []
  },
  {
   "cell_type": "code",
   "execution_count": null,
   "metadata": {},
   "outputs": [],
   "source": []
  }
 ],
 "metadata": {
  "kernelspec": {
   "display_name": "Python 3",
   "language": "python",
   "name": "python3"
  },
  "language_info": {
   "codemirror_mode": {
    "name": "ipython",
    "version": 3
   },
   "file_extension": ".py",
   "mimetype": "text/x-python",
   "name": "python",
   "nbconvert_exporter": "python",
   "pygments_lexer": "ipython3",
   "version": "3.8.3"
  }
 },
 "nbformat": 4,
 "nbformat_minor": 4
}
